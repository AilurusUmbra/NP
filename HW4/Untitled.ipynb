{
 "cells": [
  {
   "cell_type": "code",
   "execution_count": 2,
   "metadata": {},
   "outputs": [],
   "source": [
    "import time\n",
    "import sys\n",
    "import stomp\n",
    "\n",
    "class MyListener(stomp.ConnectionListener):\n",
    "    def on_error(self, headers, message):\n",
    "        print('received an error \"%s\"' % message)\n",
    "    def on_message(self, headers, message):\n",
    "        print('received a message \"%s\"' % message)\n",
    "\n",
    "conn = stomp.Connection()\n",
    "conn.set_listener('', MyListener())\n",
    "conn.start()\n",
    "conn.connect('admin', 'password', wait=True)\n",
    "conn.send(body=' '.join(sys.argv[1:]), destination='/queue/test')\n",
    "time.sleep(2)\n",
    "conn.disconnect()"
   ]
  }
 ],
 "metadata": {
  "kernelspec": {
   "display_name": "Python 3",
   "language": "python",
   "name": "python3"
  },
  "language_info": {
   "codemirror_mode": {
    "name": "ipython",
    "version": 3
   },
   "file_extension": ".py",
   "mimetype": "text/x-python",
   "name": "python",
   "nbconvert_exporter": "python",
   "pygments_lexer": "ipython3",
   "version": "3.6.5"
  }
 },
 "nbformat": 4,
 "nbformat_minor": 2
}
